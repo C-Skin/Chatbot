{
 "cells": [
  {
   "cell_type": "markdown",
   "id": "21c4cb1f-f86e-480d-b297-ddfe9bab34ec",
   "metadata": {},
   "source": [
    "# Import Library"
   ]
  },
  {
   "cell_type": "code",
   "execution_count": 1,
   "id": "ac6a46d9-09e2-4c6a-865e-d0e606c11bcf",
   "metadata": {},
   "outputs": [
    {
     "name": "stderr",
     "output_type": "stream",
     "text": [
      "/home/mshidayat66/anaconda3/lib/python3.9/site-packages/sentence_transformers/cross_encoder/CrossEncoder.py:11: TqdmExperimentalWarning: Using `tqdm.autonotebook.tqdm` in notebook mode. Use `tqdm.tqdm` instead to force console mode (e.g. in jupyter console)\n",
      "  from tqdm.autonotebook import tqdm, trange\n"
     ]
    }
   ],
   "source": [
    "import pandas as pd\n",
    "from sentence_transformers import SentenceTransformer\n",
    "import torch\n",
    "import re\n",
    "from qdrant_client import QdrantClient, models\n",
    "from qdrant_client.http.models import Distance, VectorParams, PointStruct\n",
    "from langdetect import detect\n",
    "\n",
    "import time\n",
    "from IPython.display import display, clear_output, Markdown\n",
    "from langchain.llms import Ollama\n",
    "from langchain.prompts import PromptTemplate\n",
    "from langchain.chains import LLMChain\n",
    "\n",
    "from collections import defaultdict\n",
    "import numpy as np\n",
    "from tqdm import tqdm\n",
    "from ragas.llms import LangchainLLMWrapper\n",
    "from ragas.evaluation import evaluate\n",
    "from ragas.metrics import Faithfulness, FactualCorrectness, LLMContextRecall\n",
    "from ragas import EvaluationDataset\n",
    "from ragas import RunConfig"
   ]
  },
  {
   "cell_type": "code",
   "execution_count": 2,
   "id": "fd3c30c3-9573-4d01-be80-72e128e40e81",
   "metadata": {},
   "outputs": [],
   "source": [
    "# Set seed untuk NumPy, PyTorch, dan Python Random\n",
    "torch.manual_seed(42)\n",
    "torch.cuda.manual_seed_all(42)"
   ]
  },
  {
   "cell_type": "markdown",
   "id": "520bbfec-9677-472e-a7d5-d8a0c2390d04",
   "metadata": {},
   "source": [
    "# Indexing"
   ]
  },
  {
   "cell_type": "code",
   "execution_count": 3,
   "id": "53e50a05",
   "metadata": {},
   "outputs": [],
   "source": [
    "# Fungsi preprocessing teks\n",
    "def preprocess_text(text):\n",
    "    text = text.lower()  # Lowercase\n",
    "    text = re.sub(r'\\s+', ' ', text)  # Normalisasi spasi\n",
    "    text = re.sub(r\"[()!*\\-?]\", \"\", text)\n",
    "    return text.strip()"
   ]
  },
  {
   "cell_type": "code",
   "execution_count": 4,
   "id": "1b2235c9-7b08-446f-ba58-a521cbf88950",
   "metadata": {
    "scrolled": true
   },
   "outputs": [
    {
     "name": "stdout",
     "output_type": "stream",
     "text": [
      "                                              question  \\\n",
      "0                                   What is Carbuncle?   \n",
      "1                               What Causes Carbuncle?   \n",
      "2    What are the risk factors and frequency for ca...   \n",
      "3        What are the signs and Symptoms of Carbuncle?   \n",
      "4                             How is carbuncle tested?   \n",
      "..                                                 ...   \n",
      "298  What are the Treatment Options for Leprosy (Ha...   \n",
      "299         What else can Leprosy (Hansen Disease) be?   \n",
      "300      What to expect with Leprosy (Hansen Disease)?   \n",
      "301  What are the Possible Complications When Diagn...   \n",
      "302     How can Leprosy (Hansen Disease) be prevented?   \n",
      "\n",
      "                                                answer  \\\n",
      "0    A carbuncle is a cluster of boils, called furu...   \n",
      "1    Carbuncles, which are infections in the hair f...   \n",
      "2    Carbuncles, while common, occur most often in ...   \n",
      "3    A person with a carbuncle, which is a kind of ...   \n",
      "4    If your doctor suspects that you have a skin i...   \n",
      "..                                                 ...   \n",
      "298  Leprosy, a disease caused by bacteria called M...   \n",
      "299  If doctors suspect someone has leprosy, a key ...   \n",
      "300  The outcome of leprosy, a long-term infection ...   \n",
      "301  People with leprosy may develop nerve abscesse...   \n",
      "302  Controlling the spread of leprosy involves car...   \n",
      "\n",
      "                                 source  \\\n",
      "0    NIH (National Library of Medicine)   \n",
      "1    NIH (National Library of Medicine)   \n",
      "2    NIH (National Library of Medicine)   \n",
      "3    NIH (National Library of Medicine)   \n",
      "4    NIH (National Library of Medicine)   \n",
      "..                                  ...   \n",
      "298  NIH (National Library of Medicine)   \n",
      "299  NIH (National Library of Medicine)   \n",
      "300  NIH (National Library of Medicine)   \n",
      "301  NIH (National Library of Medicine)   \n",
      "302  NIH (National Library of Medicine)   \n",
      "\n",
      "                                         focus_area  \n",
      "0                          Carbuncle atau Karbunkel  \n",
      "1                          Carbuncle atau Karbunkel  \n",
      "2                          Carbuncle atau Karbunkel  \n",
      "3                          Carbuncle atau Karbunkel  \n",
      "4                          Carbuncle atau Karbunkel  \n",
      "..                                              ...  \n",
      "298  Leprosy (Hansen Disease) atau Kusta atau lepra  \n",
      "299  Leprosy (Hansen Disease) atau Kusta atau lepra  \n",
      "300  Leprosy (Hansen Disease) atau Kusta atau lepra  \n",
      "301  Leprosy (Hansen Disease) atau Kusta atau lepra  \n",
      "302  Leprosy (Hansen Disease) atau Kusta atau lepra  \n",
      "\n",
      "[303 rows x 4 columns]\n"
     ]
    }
   ],
   "source": [
    "# Load CSV\n",
    "df = pd.read_csv(\"./dataset.csv\", encoding=\"utf-8\")\n",
    "\n",
    "print(df)"
   ]
  },
  {
   "cell_type": "code",
   "execution_count": 5,
   "id": "bff34ea1",
   "metadata": {},
   "outputs": [],
   "source": [
    "# Preprocessing\n",
    "df = df.fillna(\"\")  # Hindari NaN\n",
    "df[\"question\"] = df[\"question\"].apply(preprocess_text)\n",
    "df[\"answer\"] = df[\"answer\"].apply(preprocess_text)\n",
    "df[\"source\"] = df[\"source\"].apply(preprocess_text)\n",
    "df[\"focus_area\"] = df[\"focus_area\"].apply(preprocess_text)\n",
    "\n",
    "# Konversi ke list\n",
    "questions = df[\"question\"].tolist()\n",
    "answers = df[\"answer\"].tolist()\n",
    "sources = df[\"source\"].tolist()\n",
    "focus_areas = df[\"focus_area\"].tolist()"
   ]
  },
  {
   "cell_type": "code",
   "execution_count": 6,
   "id": "ed3dd3b1-b9a0-4c3a-9c1c-3237000e8114",
   "metadata": {},
   "outputs": [
    {
     "name": "stderr",
     "output_type": "stream",
     "text": [
      "/tmp/ipykernel_3088/1202965713.py:3: LangChainDeprecationWarning: The class `Ollama` was deprecated in LangChain 0.3.1 and will be removed in 1.0.0. An updated version of the class exists in the :class:`~langchain-ollama package and should be used instead. To use it run `pip install -U :class:`~langchain-ollama` and import as `from :class:`~langchain_ollama import OllamaLLM``.\n",
      "  llama = Ollama(model=\"llama3.1:8b\", temperature=0.0, mirostat_tau=4.0, mirostat_eta=0.65, timeout=None)\n"
     ]
    }
   ],
   "source": [
    "# Inisialisasi Model dan Database\n",
    "client = QdrantClient(\"http://34.69.51.79:6333\")\n",
    "llama = Ollama(model=\"llama3.1:8b\", temperature=0.0, mirostat_tau=4.0, mirostat_eta=0.65, timeout=None)\n",
    "model = SentenceTransformer('BAAI/bge-m3', device='cuda' if torch.cuda.is_available() else 'cpu')\n",
    "embeddings = model.encode(answers)"
   ]
  },
  {
   "cell_type": "code",
   "execution_count": 7,
   "id": "a3d1f201-ca7c-45fb-b14f-d3b634785440",
   "metadata": {},
   "outputs": [
    {
     "name": "stderr",
     "output_type": "stream",
     "text": [
      "/tmp/ipykernel_3088/2789142302.py:2: DeprecationWarning: `recreate_collection` method is deprecated and will be removed in the future. Use `collection_exists` to check collection existence and `create_collection` instead.\n",
      "  client.recreate_collection(\n"
     ]
    },
    {
     "name": "stdout",
     "output_type": "stream",
     "text": [
      "Uploaded batch 1\n",
      "Uploaded batch 2\n",
      "Uploaded batch 3\n",
      "Uploaded batch 4\n",
      "Uploaded batch 5\n",
      "Uploaded batch 6\n",
      "Uploaded batch 7\n"
     ]
    }
   ],
   "source": [
    "# Membuat collection dan menginput data ke Qdrant\n",
    "client.recreate_collection(\n",
    "    collection_name='Skin Diseases',\n",
    "    vectors_config=VectorParams(\n",
    "        size=len(embeddings[0]),\n",
    "        distance=Distance.COSINE\n",
    "    ),\n",
    "    quantization_config=models.ScalarQuantization(\n",
    "        scalar=models.ScalarQuantizationConfig(\n",
    "            type=models.ScalarType.INT8\n",
    "        )\n",
    "    )\n",
    ")\n",
    "\n",
    "# Menyiapkan data points\n",
    "points = []\n",
    "for i in range(len(embeddings)):\n",
    "    points.append(\n",
    "        PointStruct(\n",
    "            id=i,\n",
    "            vector=embeddings[i],\n",
    "            payload={\n",
    "                \"question\"   : questions[i]    if i < len(questions)    else \"\",\n",
    "                \"answer\"     : answers[i]      if i < len(answers)      else \"\",\n",
    "                \"source\"     : sources[i]      if i < len(sources)      else \"\",\n",
    "                \"focus_area\" : focus_areas[i]  if i < len(focus_areas)  else \"\",\n",
    "            }\n",
    "        )\n",
    "    )\n",
    "\n",
    "# Mengirim data dalam batch\n",
    "batch_size = 50\n",
    "for i in range(0, len(points), batch_size):\n",
    "    batch_points = points[i:i+batch_size]\n",
    "    client.upsert(\n",
    "        collection_name='Skin Diseases',\n",
    "        wait=True,\n",
    "        points=batch_points\n",
    "    )\n",
    "    print(f'Uploaded batch {i // batch_size + 1}')"
   ]
  },
  {
   "cell_type": "code",
   "execution_count": 8,
   "id": "2974390b",
   "metadata": {},
   "outputs": [],
   "source": [
    "# Fungsi deteksi dan translate ke English (jika perlu)\n",
    "def detect_and_translate(text):\n",
    "    try:\n",
    "        detected_lang = detect(text)\n",
    "        if detected_lang == \"en\":\n",
    "            return text\n",
    "        else:\n",
    "            translation_prompt = f\"\"\"\n",
    "            Translate the following sentence from {detected_lang} to English. Do not add explanation, just translate.\n",
    "\n",
    "            Original ({detected_lang}): {text}\n",
    "            English:\n",
    "            \"\"\"\n",
    "            translated = llama.invoke(translation_prompt)\n",
    "            return translated.strip()\n",
    "    except Exception as e:\n",
    "        return text"
   ]
  },
  {
   "cell_type": "code",
   "execution_count": 9,
   "id": "99eebc76-a78b-453e-b787-a1710f0ebde8",
   "metadata": {},
   "outputs": [
    {
     "name": "stdout",
     "output_type": "stream",
     "text": [
      "Q: what is carbuncle\n",
      "A: a carbuncle is a cluster of boils, called furuncles, that are connected to each other. this occurs when an infection starts in one or more hair follicles and spreads to the skin and deeper layers of tissue surrounding these follicles. carbuncles usually appear as red, tender, and swollen lumps with several oozing openings or pusfilled bumps on the surface. they often come with general symptoms of illness, and swollen glands may also occur in the nearby area. while carbuncles can appear anywhere on the body where there is hair, they are most commonly found on areas with thicker skin like the back of the neck, back, and thighs. if an infected hair follicle, known as folliculitis, doesn’t get treated, it can turn into a boil, or furuncle. when these boils cluster together, they create a carbuncle. you can have one carbuncle or several at the same time.\n",
      "Source: nih national library of medicine\n",
      "Focus Area: carbuncle atau karbunkel\n",
      "Q: what causes carbuncle\n",
      "A: carbuncles, which are infections in the hair follicle, typically occur due to bacteria. the main bacteria responsible for this is called staphylococcus aureus, which can include methicillinresistant staphylococcus aureus, a more resistant type of this bacteria. in certain cases, especially when the infection keeps coming back or is affecting the genital and anal areas, it can be caused by a group of bacteria that don’t need oxygen to survive, known as anaerobic bacteria. staphylococcus aureus is a type of bacteria that can generally be found living harmlessly on the skin, particularly in areas where skin folds over itself, like the groin, armpits, buttocks, and neck. it can also live inside your nose. if you scratch these areas, the bacteria can be transferred to other parts of your body. if the skin is broken or damaged, these bacteria can infect the hair follicle. once they’ve entered the follicle, they can multiply, leading to different conditions such as folliculitis inflammation of the follicles, furuncle a boil, or a carbuncle a cluster of boils.\n",
      "Source: nih national library of medicine\n",
      "Focus Area: carbuncle atau karbunkel\n",
      "Q: what else can carbuncle be\n",
      "A: when a physician is trying to determine whether a skin condition is a carbuncle, they will also consider a range of other conditions that have similar symptoms. these could include:  cystic acne: this is typically smaller than a carbuncle and usually only has one pustule, if any, on the surface.  hidradenitis suppurativa: this condition usually appears only in the armpit or groin areas and is more longterm.  cellulitis: this skin infection doesn’t usually show any pustules and is not nodular.  osteomyelitis: this inflammation of the bone usually occurs over a joint. an mri scan can usually rule it out.  orf: this is a shortterm viral infection that goes through six stages and often occurs in people who handle farm animals.  anthrax: this usually includes exposure to farm animals or bioligical weapons and typically develops a black scab over the lesions.  arthropod bites: these usually appear in groups and have more sudden onset symptoms. by considering all these possibilities and conducting relevant tests, a physician can accurately identify whether the condition is carbuncle or not.\n",
      "Source: nih national library of medicine\n",
      "Focus Area: carbuncle atau karbunkel\n",
      "Q: what to expect with carbuncle\n",
      "A: a carbuncle, which is a cluster of boils on the skin, can take days or even weeks to fully develop, growing up to 2 to 10 cm in size. after about a week, several pusfilled bumps may appear on the boil’s surface. this lesion, or damaged area on the skin, may drain a mixture of blood and clear bodily fluid. the healing process also spans over several weeks and leaves a scar. it should be noted that if a carbuncle is not treated, it can cause serious health conditions such as sepsis, a lifethreatening infection, or diabetic ketoacidosis, a critical complication of diabetes, especially in those with weak immune systems or other health issues. don’t worry, though. with proper medical treatment, carbuncles can be completely cured. the prognosis or expected outcome of the treatment is excellent, typically resulting in only a cosmetic scar.\n",
      "Source: nih national library of medicine\n",
      "Focus Area: carbuncle atau karbunkel\n",
      "Q: what are the signs and symptoms of carbuncle\n",
      "A: a person with a carbuncle, which is a kind of skin infection, will often tell you about a growing tender bump on their body. they might mention that it first appeared as a simple “pimple” or a small pocket of pus, which they tried to pop. but, in a few days or weeks, it began to grow bigger and become more tender and squishy to touch. now, it’s important to know that carbuncles can lead to fullbody symptoms, but their presence is not necessary for diagnosing the condition. if present, these fullbody symptoms could include fever, swollen lymph nodes, fatigue, and a general feeling of discomfort or illness. when you look at a carbuncle, what you’d typically see is a reddish, painful bump with several pusfilled bumps on top. often, these bumps break open due to small injuries, rubbing, or pressure, which can form a crusty layer on top. as for where on the body you’re likely to find them, carbuncles can appear anywhere you have hair. that being said, they’re more commonly found on certain parts of the body such as the back of the neck, face, back, buttocks, underarms, and groin.  initially appeared as a “pimple” or a small pocket of pus  grew bigger over a few days or weeks  became tender and squishy to touch  may have caused fullbody symptoms including fever, swollen lymph nodes, fatigue, and discomfort or illness  appears as a reddish, painful bump with several pusfilled bumps on top  bumps often break open to form a crusty layer on top  can appear anywhere on the body with hair, with more common areas being the back of the neck, face, back, buttocks, underarms, and groin\n",
      "Source: nih national library of medicine\n",
      "Focus Area: carbuncle atau karbunkel\n"
     ]
    }
   ],
   "source": [
    "def search(query):\n",
    "    # Vector Query\n",
    "    query_vector = model.encode(query).tolist()\n",
    "\n",
    "    results = client.search(\n",
    "        collection_name='Skin Diseases',\n",
    "        query_vector=query_vector,\n",
    "        limit=5,\n",
    "        with_payload=True,\n",
    "        score_threshold=0.4\n",
    "    )\n",
    "\n",
    "    # Mengurutkan berdasarkan score\n",
    "    sorted_result = sorted(results, key=lambda x: x.score, reverse=True)\n",
    "    \n",
    "    # Ambil payload dengan penanganan jika key tidak tersedia\n",
    "    final_results = []\n",
    "    for res in sorted_result:\n",
    "        payload = res.payload\n",
    "        questions = payload.get('question', '')\n",
    "        answer = payload.get('answer', '')\n",
    "        source = payload.get('source', '')\n",
    "        focus_area = payload.get('focus_area', '')\n",
    "        combined = f\"Q: {questions}\\nA: {answer}\\nSource: {source}\\nFocus Area: {focus_area}\".strip()\n",
    "        final_results.append(combined)\n",
    "\n",
    "    return final_results\n",
    "\n",
    "# Contoh Query\n",
    "query = \"Apa itu karbunkel atau Carbuncle?\"\n",
    "query = detect_and_translate(query)\n",
    "results = search(query)\n",
    "\n",
    "# Tampilkan hasil pencarian\n",
    "for result in results:\n",
    "    print(result)"
   ]
  },
  {
   "cell_type": "markdown",
   "id": "050b6e21-f98b-42b4-bc85-bf089cd97987",
   "metadata": {},
   "source": [
    "# Implementasi Retrieval Augmented Generation"
   ]
  },
  {
   "cell_type": "code",
   "execution_count": 10,
   "id": "7d56d627-f591-459e-bf89-a02f96594a9b",
   "metadata": {},
   "outputs": [
    {
     "data": {
      "text/markdown": [
       "Thank you for consulting with C-Skin.Based on the information provided, it seems that your symptoms are consistent with a carbuncle. A carbuncle is a type of skin infection that can appear as a growing tender bump on the body, often accompanied by pus-filled bumps on top. It's common to find carbuncles in areas with hair, such as the armpits.The symptoms you described, including pain when touched gently and the presence of pus, are also consistent with a carbuncle. However, it's essential to consult a healthcare professional for an accurate diagnosis and proper treatment.I hope this information helps, and I wish you a speedy recovery, and thank you."
      ],
      "text/plain": [
       "<IPython.core.display.Markdown object>"
      ]
     },
     "metadata": {},
     "output_type": "display_data"
    }
   ],
   "source": [
    "# Prompt Template\n",
    "prompt_template = PromptTemplate(\n",
    "    input_variables=[\"context\", \"query\", \"tone\"],\n",
    "    template=\"\"\" \n",
    "    You are a Healthcare chatbot named C-Skin. Please respond to each user question using the tone: {tone}.\n",
    "    \n",
    "    Instructions for answering disease-related questions:\n",
    "    - Answer using only the information provided in {context}.\n",
    "    - If the question is related to a disease, provide accurate, concise, and complete information based on the context.\n",
    "    - If no relevant information is found in the context, do not speculate or fabricate answers. Instead, reply with: \"This is all the information I have.\"\n",
    "    - Avoid using complex or unfamiliar medical terms. Keep the language simple and understandable for general users.\n",
    "    - Always begin your response with: \"Thank you for consulting with C-Skin.\"\n",
    "    - Always end your response with: \"I hope this information helps, and I wish you a speedy recovery, and thank you.\"\n",
    "    - Do not use any external knowledge beyond the provided context.\n",
    "    - Do not mention that you are limited by context — just provide what you can from it.\n",
    "    - You must not infer or invent facts. Only rephrase or summarize what exists explicitly in the context.\n",
    "\n",
    "    Only use the following context to answer the user's question:\n",
    "    {context}\n",
    "\n",
    "    User Question:\n",
    "    {query}\n",
    "\n",
    "    Answer in English only.\n",
    "    \"\"\"\n",
    ")\n",
    "\n",
    "\n",
    "# Mendefinisikan LLM Chain\n",
    "llm_chain = LLMChain(\n",
    "    llm=llama,\n",
    "    prompt=prompt_template\n",
    ")\n",
    "\n",
    "# Fungsi untuk mengenerate response\n",
    "def generate(context, query, tone=\"professional and friendly\"):\n",
    "    context_text = \"\\n\\n\".join([f\"Doc {i+1}:\\n{ctx.strip()}\" for i, ctx in enumerate(context)])\n",
    "    response = llm_chain.run(context=context_text, query=query, tone=tone)\n",
    "    return response\n",
    "\n",
    "# Question Query\n",
    "query = \"Saya memiliki benjolan di ketiak, ketika dipegang lembut tapi sakit dan terlihat seperti ada nanahnya, kira-kira penyakit apa ya?\"\n",
    "query = detect_and_translate(query)\n",
    "results = search(query)\n",
    "response = generate(results, query)\n",
    "\n",
    "# Menampilkan Response\n",
    "output = \"\"\n",
    "for line in response.split(\"\\n\"):\n",
    "    output += line\n",
    "    clear_output(wait=True)\n",
    "    display(Markdown(output))\n",
    "    time.sleep(0.1)"
   ]
  },
  {
   "cell_type": "markdown",
   "id": "20912296-569f-4969-8030-f3054e5211fc",
   "metadata": {},
   "source": [
    "# Evaluasi"
   ]
  },
  {
   "cell_type": "code",
   "execution_count": 11,
   "id": "e3167f96-7e0b-4af0-9863-bbb87913efd4",
   "metadata": {},
   "outputs": [
    {
     "name": "stderr",
     "output_type": "stream",
     "text": [
      "Generating responses: 100%|█████████████████████████████████████████████████████████████████████████████████████████████████████████████| 5/5 [37:39<00:00, 451.86s/it]"
     ]
    },
    {
     "name": "stdout",
     "output_type": "stream",
     "text": [
      "\n",
      "Evaluating entire dataset:\n"
     ]
    },
    {
     "name": "stderr",
     "output_type": "stream",
     "text": [
      "\n"
     ]
    },
    {
     "data": {
      "application/vnd.jupyter.widget-view+json": {
       "model_id": "ef7ba2fa4f064caeaf11fc98753ecaee",
       "version_major": 2,
       "version_minor": 0
      },
      "text/plain": [
       "Evaluating:   0%|          | 0/10 [00:00<?, ?it/s]"
      ]
     },
     "metadata": {},
     "output_type": "display_data"
    },
    {
     "data": {
      "application/vnd.jupyter.widget-view+json": {
       "model_id": "",
       "version_major": 2,
       "version_minor": 0
      },
      "text/plain": [
       "Batch 1/1:   0%|          | 0/10 [00:00<?, ?it/s]"
      ]
     },
     "metadata": {},
     "output_type": "display_data"
    }
   ],
   "source": [
    "# Daftar pertanyaan evaluasi\n",
    "eval_questions = [\n",
    "    \"Apa itu karbunkel atau Carbuncle?\",\n",
    "    \"Apa itu jerawat atau Acne Vulgaris?\",\n",
    "    \"apa itu vitiligo?\",\n",
    "    \"Apa itu panu atau Tinea Versicolor?\",\n",
    "    \"Apa itu kusta atau Leprosy ?\"\n",
    "]\n",
    "eval_answers = [\n",
    "    \"Karbunkel atau Carbuncle adalah infeksi kulit yang serius, ditandai dengan kumpulan bisul (furunkel) yang saling terhubung di bawah permukaan kulit. Infeksi ini biasanya melibatkan beberapa folikel rambut beserta jaringan di sekitarnya, sehingga menimbulkan benjolan yang merah, bengkak, dan terasa nyeri. Karbunkel umumnya lebih parah dibandingkan bisul tunggal, lebih berisiko meninggalkan bekas luka, dan sering disertai gejala sistemik seperti demam serta rasa tidak enak badan.\",\n",
    "    \"Jerawat atau Acne Vulgaris adalah gangguan kulit yang disebabkan oleh penyumbatan pori-pori akibat penumpukan minyak (sebum), sel kulit mati, dan kotoran. Jerawat dapat menyebabkan peradangan dan infeksi, dan umumnya muncul di wajah, leher, punggung, dan dada.\",\n",
    "    \"Vitiligo adalah kondisi kulit di mana pigmen atau warna kulit hilang, menyebabkan munculnya bercak-bercak putih atau pucat di kulit. Kondisi ini terjadi karena sel-sel yang memproduksi melanin, zat yang memberi warna pada kulit, berhenti bekerja. Vitiligo bukan penyakit menular dan tidak berbahaya.\",\n",
    "    \"Panu, atau dikenal sebagai Tinea Versicolor atau Pityriasis Versicolor, adalah infeksi jamur pada kulit yang menyebabkan munculnya bercak-bercak kecil dengan perubahan warna. Bercak tersebut dapat tampak lebih terang atau lebih gelap dibandingkan dengan kulit di sekitarnya.\",\n",
    "    \"Kusta (lepra) atau Leprosy adalah penyakit infeksi kronis yang disebabkan oleh bakteri *Mycobacterium leprae*. Kusta terutama menyerang kulit, saraf tepi, saluran pernapasan atas, dan mata, dan dapat menyebabkan kerusakan permanen jika tidak ditangani dengan tepat.\"\n",
    "]\n",
    "\n",
    "# Wrap the Ollama model with LangchainLLMWrapper for RAGAS evaluation\n",
    "evaluator_llm = LangchainLLMWrapper(llama)\n",
    "\n",
    "# Menyiapkan data evaluasi\n",
    "dataset = []\n",
    "for query_item, reference in tqdm(zip(eval_questions, eval_answers), total=len(eval_questions), desc=\"Generating responses\"):\n",
    "    query_item = detect_and_translate(query_item)\n",
    "    reference = detect_and_translate(reference)\n",
    "    \n",
    "    relevant_docs = search(query_item)\n",
    "    response_text = generate(relevant_docs, query_item)\n",
    "\n",
    "    dataset.append({\n",
    "        \"user_input\": query_item,\n",
    "        \"retrieved_contexts\": relevant_docs,\n",
    "        \"response\": response_text,\n",
    "        \"reference\": reference,\n",
    "    })\n",
    "\n",
    "# Evaluasi langsung seluruh dataset\n",
    "print(\"\\nEvaluating entire dataset:\")\n",
    "eval_dataset = EvaluationDataset.from_list(dataset)\n",
    "\n",
    "run_config = RunConfig(timeout=None)\n",
    "\n",
    "results = evaluate(\n",
    "    dataset=eval_dataset,\n",
    "    metrics=[Faithfulness(), LLMContextRecall(llm=evaluator_llm)],\n",
    "    llm=evaluator_llm,\n",
    "    embeddings=model,\n",
    "    batch_size=10,\n",
    "    run_config=run_config\n",
    ")"
   ]
  },
  {
   "cell_type": "code",
   "execution_count": 12,
   "id": "a35fbf2c",
   "metadata": {},
   "outputs": [
    {
     "name": "stdout",
     "output_type": "stream",
     "text": [
      "\n",
      "=== Rata-rata Skor Evaluasi ===\n",
      "faithfulness: 0.9429\n",
      "context_recall: 0.9600\n"
     ]
    }
   ],
   "source": [
    "# Gabungkan semua skor dari hasil evaluasi\n",
    "metric_scores = defaultdict(list)\n",
    "\n",
    "for score_dict in results.scores:\n",
    "    for metric_name, score in score_dict.items():\n",
    "        metric_scores[metric_name].append(score)\n",
    "\n",
    "# Hitung dan tampilkan rata-rata skor\n",
    "print(\"\\n=== Rata-rata Skor Evaluasi ===\")\n",
    "for metric_name, scores in metric_scores.items():\n",
    "    average_score = np.nanmean(scores)\n",
    "    print(f\"{metric_name}: {average_score:.4f}\")"
   ]
  },
  {
   "cell_type": "code",
   "execution_count": 13,
   "id": "a59eda9a",
   "metadata": {},
   "outputs": [
    {
     "name": "stdout",
     "output_type": "stream",
     "text": [
      "defaultdict(<class 'list'>, {'faithfulness': [1.0, 1.0, 1.0, 1.0, 0.7142857142857143], 'context_recall': [0.8, 1.0, 1.0, 1.0, 1.0]})\n"
     ]
    }
   ],
   "source": [
    "print(metric_scores)"
   ]
  },
  {
   "cell_type": "code",
   "execution_count": 14,
   "id": "7ed83733",
   "metadata": {},
   "outputs": [
    {
     "name": "stderr",
     "output_type": "stream",
     "text": [
      "Generating responses: 100%|█████████████████████████████████████████████████████████████████████████████████████████████████████████████| 5/5 [38:37<00:00, 463.59s/it]"
     ]
    },
    {
     "name": "stdout",
     "output_type": "stream",
     "text": [
      "\n",
      "Evaluating entire dataset:\n"
     ]
    },
    {
     "name": "stderr",
     "output_type": "stream",
     "text": [
      "\n"
     ]
    },
    {
     "data": {
      "application/vnd.jupyter.widget-view+json": {
       "model_id": "6406a0f5e0024fada7f3085fe57146c5",
       "version_major": 2,
       "version_minor": 0
      },
      "text/plain": [
       "Evaluating:   0%|          | 0/15 [00:00<?, ?it/s]"
      ]
     },
     "metadata": {},
     "output_type": "display_data"
    },
    {
     "data": {
      "application/vnd.jupyter.widget-view+json": {
       "model_id": "",
       "version_major": 2,
       "version_minor": 0
      },
      "text/plain": [
       "Batch 1/2:   0%|          | 0/10 [00:00<?, ?it/s]"
      ]
     },
     "metadata": {},
     "output_type": "display_data"
    }
   ],
   "source": [
    "# Daftar pertanyaan evaluasi\n",
    "eval_questions = [\n",
    "    \"Apa itu karbunkel atau Carbuncle?\",\n",
    "    \"Apa itu jerawat atau Acne Vulgaris?\",\n",
    "    \"Apa itu kanker kulit atau Skin Cancer?\",\n",
    "    \"Apa itu panu atau Tinea Versicolor?\",\n",
    "    \"Apa itu kusta atau Leprosy ?\"\n",
    "]\n",
    "eval_answers = [\n",
    "    \"Karbunkel adalah infeksi kulit yang serius, ditandai dengan kumpulan bisul (furunkel) yang saling terhubung di bawah permukaan kulit. Infeksi ini biasanya melibatkan beberapa folikel rambut beserta jaringan di sekitarnya, sehingga menimbulkan benjolan yang merah, bengkak, dan terasa nyeri. Karbunkel umumnya lebih parah dibandingkan bisul tunggal, lebih berisiko meninggalkan bekas luka, dan sering disertai gejala sistemik seperti demam serta rasa tidak enak badan.\",\n",
    "    \"Jerawat atau Acne Vulgaris adalah gangguan kulit yang disebabkan oleh penyumbatan pori-pori akibat penumpukan minyak (sebum), sel kulit mati, dan kotoran. Jerawat dapat menyebabkan peradangan dan infeksi, dan umumnya muncul di wajah, leher, punggung, dan dada.\",\n",
    "    \"Kanker kulit atau Skin Cancer adalah kondisi pertumbuhan sel kulit yang abnormal dan tidak terkendali, yang dapat berkembang menjadi tumor ganas. Kanker kulit biasanya terjadi di area tubuh yang sering terpapar sinar matahari, seperti wajah, leher, dan tangan, tetapi juga dapat muncul di bagian tubuh lain yang jarang terkena sinar matahari.\",\n",
    "    \"Panu, atau dikenal sebagai Tinea Versicolor atau Pityriasis Versicolor, adalah infeksi jamur pada kulit yang menyebabkan munculnya bercak-bercak kecil dengan perubahan warna. Bercak tersebut dapat tampak lebih terang atau lebih gelap dibandingkan dengan kulit di sekitarnya.\",\n",
    "    \"Kusta (lepra) atau Leprosy adalah penyakit infeksi kronis yang disebabkan oleh bakteri *Mycobacterium leprae*. Kusta terutama menyerang kulit, saraf tepi, saluran pernapasan atas, dan mata, dan dapat menyebabkan kerusakan permanen jika tidak ditangani dengan tepat.\"\n",
    "]\n",
    "\n",
    "\n",
    "# Wrap the Ollama model with LangchainLLMWrapper for RAGAS evaluation\n",
    "evaluator_llm = LangchainLLMWrapper(llama)\n",
    "\n",
    "# Menyiapkan data evaluasi\n",
    "dataset = []\n",
    "for query_item, reference in tqdm(zip(eval_questions, eval_answers), total=len(eval_questions), desc=\"Generating responses\"):\n",
    "    query_item = detect_and_translate(query_item)\n",
    "    reference = detect_and_translate(reference)\n",
    "    \n",
    "    relevant_docs = search(query_item)\n",
    "    response_text = generate(relevant_docs, query_item)\n",
    "\n",
    "    dataset.append({\n",
    "        \"user_input\": query_item,\n",
    "        \"retrieved_contexts\": relevant_docs,\n",
    "        \"response\": response_text,\n",
    "        \"reference\": reference,\n",
    "    })\n",
    "\n",
    "# Evaluasi langsung seluruh dataset\n",
    "print(\"\\nEvaluating entire dataset:\")\n",
    "eval_dataset = EvaluationDataset.from_list(dataset)\n",
    "\n",
    "run_config = RunConfig(timeout=None)\n",
    "\n",
    "results = evaluate(\n",
    "    dataset=eval_dataset,\n",
    "    metrics=[FactualCorrectness(mode='f1', atomicity=\"low\", coverage=\"low\"), FactualCorrectness(mode='recall', atomicity=\"low\", coverage=\"low\"), FactualCorrectness(mode='precision', atomicity=\"low\", coverage=\"low\")],\n",
    "    llm=evaluator_llm,\n",
    "    embeddings=model,\n",
    "    batch_size=10,\n",
    "    run_config=run_config\n",
    ")"
   ]
  },
  {
   "cell_type": "code",
   "execution_count": 15,
   "id": "f5258262",
   "metadata": {},
   "outputs": [
    {
     "name": "stdout",
     "output_type": "stream",
     "text": [
      "\n",
      "=== Rata-rata Skor Evaluasi ===\n",
      "factual_correctness(mode=f1): 0.7080\n",
      "factual_correctness(mode=recall): 0.7640\n",
      "factual_correctness(mode=precision): 0.4720\n"
     ]
    }
   ],
   "source": [
    "# Gabungkan semua skor dari hasil evaluasi\n",
    "metric_scores = defaultdict(list)\n",
    "\n",
    "for score_dict in results.scores:\n",
    "    for metric_name, score in score_dict.items():\n",
    "        metric_scores[metric_name].append(score)\n",
    "\n",
    "# Hitung dan tampilkan rata-rata skor\n",
    "print(\"\\n=== Rata-rata Skor Evaluasi ===\")\n",
    "for metric_name, scores in metric_scores.items():\n",
    "    average_score = np.nanmean(scores)\n",
    "    print(f\"{metric_name}: {average_score:.4f}\")"
   ]
  },
  {
   "cell_type": "code",
   "execution_count": 16,
   "id": "81c8f711",
   "metadata": {},
   "outputs": [
    {
     "name": "stdout",
     "output_type": "stream",
     "text": [
      "defaultdict(<class 'list'>, {'factual_correctness(mode=f1)': [0.62, 0.62, 0.7, 0.89, 0.71], 'factual_correctness(mode=recall)': [0.67, 0.8, 0.75, 0.6, 1.0], 'factual_correctness(mode=precision)': [0.57, 0.5, 0.4, 0.5, 0.39]})\n"
     ]
    }
   ],
   "source": [
    "print(metric_scores)"
   ]
  },
  {
   "cell_type": "markdown",
   "id": "b93d4c0c-caac-45cf-be51-f2b266dd7ed4",
   "metadata": {},
   "source": [
    "# Integrasi Chainlit"
   ]
  }
 ],
 "metadata": {
  "kernelspec": {
   "display_name": "Python 3 (ipykernel)",
   "language": "python",
   "name": "python3"
  },
  "language_info": {
   "codemirror_mode": {
    "name": "ipython",
    "version": 3
   },
   "file_extension": ".py",
   "mimetype": "text/x-python",
   "name": "python",
   "nbconvert_exporter": "python",
   "pygments_lexer": "ipython3",
   "version": "3.9.7"
  }
 },
 "nbformat": 4,
 "nbformat_minor": 5
}
